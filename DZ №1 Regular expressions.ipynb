{
 "cells": [
  {
   "cell_type": "code",
   "execution_count": 1,
   "id": "43dc8023",
   "metadata": {},
   "outputs": [],
   "source": [
    "import re"
   ]
  },
  {
   "cell_type": "markdown",
   "id": "c1e05f8e",
   "metadata": {},
   "source": [
    "### Задание 6: \n",
    "https://www.hackerrank.com/challenges/matching-specific-string/problem?isFullScreen=true "
   ]
  },
  {
   "cell_type": "code",
   "execution_count": 2,
   "id": "69968152",
   "metadata": {},
   "outputs": [],
   "source": [
    "pattern = r'hackerrank'"
   ]
  },
  {
   "cell_type": "markdown",
   "id": "bc401fa2",
   "metadata": {},
   "source": [
    "### Задание 7: \n",
    "https://www.hackerrank.com/challenges/matching-whitespace-non-whitespace-character/problem?isFullScreen=true"
   ]
  },
  {
   "cell_type": "code",
   "execution_count": 3,
   "id": "99e2f580",
   "metadata": {},
   "outputs": [],
   "source": [
    "pattern = r'\\S\\S\\s\\S\\S\\s\\S\\S'"
   ]
  },
  {
   "cell_type": "markdown",
   "id": "48a9d671",
   "metadata": {},
   "source": [
    "### Задание 8: \n",
    "https://www.hackerrank.com/challenges/matching-start-end/problem?isFullScreen=true"
   ]
  },
  {
   "cell_type": "code",
   "execution_count": 4,
   "id": "651f51f2",
   "metadata": {},
   "outputs": [],
   "source": [
    "pattern = r'^\\d\\w{4}\\.$'"
   ]
  },
  {
   "cell_type": "markdown",
   "id": "7690e158",
   "metadata": {},
   "source": [
    "### Задание 9: \n",
    "https://www.hackerrank.com/challenges/matching-word-boundaries/problem?isFullScreen=true"
   ]
  },
  {
   "cell_type": "code",
   "execution_count": 5,
   "id": "045c5149",
   "metadata": {},
   "outputs": [],
   "source": [
    "pattern = r'\\b[AEIOUaeiou][A-Za-z]*\\b'"
   ]
  }
 ],
 "metadata": {
  "kernelspec": {
   "display_name": "Python 3",
   "language": "python",
   "name": "python3"
  },
  "language_info": {
   "codemirror_mode": {
    "name": "ipython",
    "version": 3
   },
   "file_extension": ".py",
   "mimetype": "text/x-python",
   "name": "python",
   "nbconvert_exporter": "python",
   "pygments_lexer": "ipython3",
   "version": "3.8.8"
  }
 },
 "nbformat": 4,
 "nbformat_minor": 5
}
